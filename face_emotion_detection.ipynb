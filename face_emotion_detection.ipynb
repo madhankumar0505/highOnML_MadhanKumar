{
  "nbformat": 4,
  "nbformat_minor": 0,
  "metadata": {
    "language_info": {
      "codemirror_mode": {
        "name": "ipython",
        "version": 3
      },
      "file_extension": ".py",
      "mimetype": "text/x-python",
      "name": "python",
      "nbconvert_exporter": "python",
      "pygments_lexer": "ipython3",
      "version": "3.9.2"
    },
    "orig_nbformat": 2,
    "kernelspec": {
      "name": "python3",
      "display_name": "Python 3.9.2 64-bit",
      "metadata": {
        "interpreter": {
          "hash": "9ed5b408e1fc168aa12e7cde3b054e34ff2b272ec8146d079b5b03f105adde98"
        }
      }
    },
    "colab": {
      "name": "face_emotion_detection.ipynb",
      "provenance": [],
      "include_colab_link": true
    }
  },
  "cells": [
    {
      "cell_type": "markdown",
      "metadata": {
        "id": "view-in-github",
        "colab_type": "text"
      },
      "source": [
        "<a href=\"https://colab.research.google.com/github/madhankumar0505/highOnML_MadhanKumar/blob/main/face_emotion_detection.ipynb\" target=\"_parent\"><img src=\"https://colab.research.google.com/assets/colab-badge.svg\" alt=\"Open In Colab\"/></a>"
      ]
    },
    {
      "cell_type": "code",
      "metadata": {
        "id": "oKfQPGbeJ0KP"
      },
      "source": [
        "!pip install deepface\n",
        "from deepface import DeepFace\n",
        "import cv2\n",
        "import matplotlib.pyplot as plt"
      ],
      "execution_count": null,
      "outputs": []
    },
    {
      "cell_type": "code",
      "metadata": {
        "id": "6zNSzXV3J12u"
      },
      "source": [
        "from google.colab import drive\n",
        "drive.mount('/content/drive')"
      ],
      "execution_count": null,
      "outputs": []
    },
    {
      "cell_type": "code",
      "metadata": {
        "id": "5WWcaCuQhZbP"
      },
      "source": [
        "img =  cv2.imread(\"/content/drive/MyDrive/face_emotion/victim_woman.jpg\") \n",
        "from google.colab.patches import cv2_imshow\n",
        "print(cv2_imshow(img))"
      ],
      "execution_count": null,
      "outputs": []
    },
    {
      "cell_type": "code",
      "metadata": {
        "id": "0fkF3yYJJ0Kb"
      },
      "source": [
        "prediction = DeepFace.analyze(img)"
      ],
      "execution_count": null,
      "outputs": []
    },
    {
      "cell_type": "code",
      "metadata": {
        "id": "lY_G84Mf0bel"
      },
      "source": [
        "print(prediction['dominant_emotion'])\n",
        "print(prediction['age'])"
      ],
      "execution_count": null,
      "outputs": []
    },
    {
      "cell_type": "code",
      "metadata": {
        "id": "vEavo1pcoFIM"
      },
      "source": [
        "print(prediction['dominant_emotion'])\n",
        "if prediction['dominant_emotion']=='fear' or prediction['dominant_emotion']=='angry' or prediction['dominant_emotion']=='sad' or prediction['dominant_emotion']=='disgust':\n",
        "  if prediction['age']>=18 and prediction['age']<=50:\n",
        "    print(\"ALERT call: True\")\n",
        "else:\n",
        "  print(\"ALERT call: False\")"
      ],
      "execution_count": null,
      "outputs": []
    }
  ]
}